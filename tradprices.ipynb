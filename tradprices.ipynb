{
 "cells": [
  {
   "cell_type": "markdown",
   "metadata": {},
   "source": [
    "# Import database for yield rate at year .... "
   ]
  },
  {
   "cell_type": "code",
   "execution_count": null,
   "metadata": {},
   "outputs": [],
   "source": [
    "import pandas as pd\n",
    "import re\n",
    "%matplotlib inline\n",
    "\n",
    "DATA_FOLDER = '~/data/'\n",
    "\n",
    "TRADPRICE = DATA_FOLDER+\"tradprice2019.csv\""
   ]
  },
  {
   "cell_type": "markdown",
   "metadata": {},
   "source": [
    "# Clean Database"
   ]
  },
  {
   "cell_type": "markdown",
   "metadata": {},
   "source": [
    "## Remove useless columns and rows with unreadable data"
   ]
  },
  {
   "cell_type": "code",
   "execution_count": null,
   "metadata": {},
   "outputs": [],
   "source": [
    "tradprice = pd.read_csv(TRADPRICE)\n",
    "tradprice.head()\n",
    "\n",
    "#Remove columns that are not needed\n",
    "# Columns with only NaN values\n",
    "tradprice = tradprice.dropna(axis=1, how='all')\n",
    "# Columns with only 0 values\n",
    "tradprice = tradprice.loc[:, (tradprice != 0).any(axis=0)]\n",
    "# Columns Period, Geo Level, State ANSI\n",
    "tradprice = tradprice.drop(columns=['Year','Program','Period', 'Geo Level', 'State ANSI', 'Domain', 'Domain Category'])\n",
    "\n",
    "#state how many rows with (D) value have been removed\n",
    "print(\"Number of rows with (D) value: \", len(tradprice[tradprice['Value'].str.contains(r'\\(D\\)')]))\n",
    "#remove rows where value colummn = (D) with or without spaces\n",
    "tradprice = tradprice[~tradprice['Value'].str.contains(r'\\(D\\)')]\n",
    "\n",
    "#state how many rows with (X) value have been removed\n",
    "print(\"Number of rows with (X) value: \", len(tradprice[tradprice['Value'].str.contains(r'\\(X\\)')]))\n",
    "#remove rows where value colummn = (X) with or without spaces\n",
    "tradprice = tradprice[~tradprice['Value'].str.contains(r'\\(X\\)')]\n",
    "\n",
    "#state how many rows with (NA) value have been removed\n",
    "print(\"Number of rows with (NA) value: \", len(tradprice[tradprice['Value'].str.contains(r'\\(NA\\)')]))\n",
    "#remove rows where value colummn = (NA) with or without spaces\n",
    "tradprice = tradprice[~tradprice['Value'].str.contains(r'\\(NA\\)')]\n",
    "\n",
    "#State how many rows with MAPLE SYRUP have been removed\n",
    "print(\"Number of rows with MAPLE SYRUP: \", len(tradprice[tradprice['Commodity'].str.contains(r'MAPLE SYRUP')]))\n",
    "#remove rows where commodity contains MAPLE SYRUP \n",
    "tradprice = tradprice[~tradprice['Commodity'].str.contains(r'MAPLE SYRUP')]\n",
    "\n",
    "\n",
    "\n",
    "tradprice.head(7)"
   ]
  },
  {
   "cell_type": "markdown",
   "metadata": {},
   "source": [
    "## Unit conversion in $/short ton"
   ]
  },
  {
   "cell_type": "code",
   "execution_count": null,
   "metadata": {},
   "outputs": [],
   "source": [
    "# Function to extract and clean the unit\n",
    "def extract_clean_unit(data_item):\n",
    "    match = re.search(r'IN\\s+\\$(\\s*/\\s*[A-Z]+)', data_item)  # Look for \"IN\" followed by the unit\n",
    "    if match: \n",
    "        return f\"${match.group(1).strip().replace(' ', '')}\"  # Clean spaces to get \"BU/ACRE\"\n",
    "    return None  # Return None if no match is found\n",
    "\n",
    "# Applying the function to create a new 'Unit' column\n",
    "tradprice['Unit'] = tradprice['Data Item'].apply(extract_clean_unit)\n",
    "\n",
    "# Display the updated DataFrame\n",
    "tradprice.head(7)\n",
    "\n",
    "#print unique values of 'Unit' column\n",
    "print(tradprice['Unit'].unique())"
   ]
  },
  {
   "cell_type": "code",
   "execution_count": null,
   "metadata": {},
   "outputs": [],
   "source": [
    "#print column with 'Unit' = '$/BARREL'\n",
    "print(tradprice[tradprice['Unit'] == '$/BARREL'])\n",
    "#print the number of rows with 'Unit' = '$/BARREL'\n",
    "print(len(tradprice[tradprice['Unit'] == '$/BARREL']))"
   ]
  },
  {
   "cell_type": "code",
   "execution_count": null,
   "metadata": {},
   "outputs": [],
   "source": [
    "#print column with 'Unit' = '$/BOX'\n",
    "print(tradprice[tradprice['Unit'] == '$/BOX'])\n",
    "#print the number of rows with 'Unit' = '$/BOX'\n",
    "print(len(tradprice[tradprice['Unit'] == '$/BOX']))"
   ]
  },
  {
   "cell_type": "code",
   "execution_count": null,
   "metadata": {},
   "outputs": [],
   "source": [
    "tradprice['Value'] = tradprice['Value'].str.replace(',', '', regex=False)  # Remove thousands separator before conversion\n",
    "# Convert 'Value' column to numeric, forcing errors to NaN\n",
    "tradprice['Value'] = pd.to_numeric(tradprice['Value'], errors='coerce')\n",
    "\n",
    "# Define conversion ratios\n",
    "conversion_ratios = {\n",
    "    '$/TON': 1,  # Reference value with Short tons and not metric tons used here\n",
    "    '$/LB': 0.0005,\n",
    "    '$/CWT': 0.05, #since 1 CWT = 100 lb\n",
    "    '$/BU (CORN/SORGHUM/RYE/FLAXSEED)': 0.028,  #source: TABLES 5/6 https://www.ers.usda.gov/webdocs/publications/41880/33132_ah697_002.pdf \n",
    "    '$/BU (BARLEY)': 0.024, #source: same\n",
    "    '$/BU (WHEAT/SOYBEANS)': 0.03, #source: same\n",
    "    '$/BU (OATS)': 32*0.0005, #source: same\n",
    "    '$/BARREL': 100*0.0005, #since 1 barrel of cranberry = 100lb of fruits source: same\n",
    "    '$/BOX (LEMONS)': 38*0.0005,  #since 1 box of lemons = 38 lb source: same\n",
    "    '$/BOX (ORANGES,FL)': 43*0.0005,  #since 1 box of oranges = 43 lb source: same\n",
    "    '$/BOX (ORANGES,TX)': 42*0.0005,  #since 1 box of oranges = 42 lb source: same\n",
    "    '$/BOX (ORANGE, AZ/CA)': 38*0.0005,  #since 1 box of oranges = 38 lb source: same\n",
    "    '$/BOX (GRAPEFRUIT, FL/TX)': 40*0.0005,  #since 1 box of oranges = 40 lb source: same\n",
    "    '$/BOX (GRAPEFRUIT, AZ/CA)': 34*0.0005,  #since 1 box of oranges = 34 lb source: same\n",
    "    '$/BOX (TANGERINES, AZ/CA)': 25*0.0005,  #since 1 box of oranges = 25 lb source: same\n",
    "    '$/BOX (TANGERINES, FL)': 43*0.0005,  #since 1 box of oranges = 43 lb source: same\n",
    "    }\n",
    "\n",
    "\n",
    "# Function to convert values to tons/acre\n",
    "def convert_to_tons_acre(row):\n",
    "    value = row['Value']\n",
    "    unit = row['Unit']\n",
    "\n",
    "    if pd.isna(value):  # Check if the value is NaN\n",
    "        return None\n",
    "    if unit == '$/TON':\n",
    "        return value  # No conversion needed\n",
    "    elif '$/BU' in unit:\n",
    "        if 'CORN' in row['Commodity'] or 'SORGHUM' or 'RYE' in row['Commodity'] or 'FLAXSEED' in row['Commodity']:\n",
    "            return value / conversion_ratios['$/BU (CORN/SORGHUM/RYE/FLAXSEED)']\n",
    "        elif 'BARLEY' in row['Commodity']:\n",
    "            return value / conversion_ratios['$/BU (BARLEY)']\n",
    "        elif 'WHEAT' in row['Commodity'] or 'SOYBEANS' in row['Commodity']:\n",
    "            return value / conversion_ratios['$/BU (WHEAT/SOYBEANS)']\n",
    "        elif 'OATS' in row['Commodity']:\n",
    "            return value / conversion_ratios['$/BU (OATS)']\n",
    "    elif unit == '$/LB':\n",
    "        return value / conversion_ratios['$/LB']\n",
    "    elif unit == '$/CWT':\n",
    "        return value / conversion_ratios['$/CWT']\n",
    "    elif unit == '$/BARREL':\n",
    "        return value / conversion_ratios['$/BARREL']\n",
    "    elif unit == '$/BOX':\n",
    "        if 'LEMONS' in row['Commodity']:\n",
    "            return value / conversion_ratios['$/BOX (LEMONS)']\n",
    "        elif 'ORANGE' in row['Commodity']:\n",
    "            if 'FLORIDA' in row['State']:\n",
    "                return value / conversion_ratios['$/BOX (ORANGES,FL)']\n",
    "            elif 'TEXAS' in row['State']:\n",
    "                return value / conversion_ratios['$/BOX (ORANGES,TX)']\n",
    "            elif 'ARIZONA' in row['State'] or 'CALIFORNIA' in row['State']:\n",
    "                return value / conversion_ratios['$/BOX (ORANGE, AZ/CA)']\n",
    "        elif 'GRAPEFRUIT' in row['Commodity']:\n",
    "            if 'FLORIDA' in row['State'] or 'TEXAS' in row['State']:\n",
    "                return value / conversion_ratios['$/BOX (GRAPEFRUIT, FL/TX)']\n",
    "            elif 'ARIZONA' in row['State'] or 'CALIFORNIA' in row['State']:\n",
    "                return value / conversion_ratios['$/BOX (GRAPEFRUIT, AZ/CA)']\n",
    "        elif 'TANGERINES' in row['Commodity']:\n",
    "            if 'FLORIDA' in row['State']:\n",
    "                return value / conversion_ratios['$/BOX (TANGERINES, FL)']\n",
    "            elif 'ARIZONA' in row['State'] or 'CALIFORNIA' in row['State']:\n",
    "                return value / conversion_ratios['$/BOX (TANGERINES, AZ/CA)']\n",
    "        \n",
    "    return None  # Return None for unrecognized units\n",
    "\n",
    "# Applying the conversion function to create the 'new_values' column\n",
    "tradprice['new_values'] = tradprice.apply(convert_to_tons_acre, axis=1)\n",
    "\n",
    "# Dropping the old 'Value' and 'Unit' columns\n",
    "tradprice.drop(columns=['Value', 'Unit'], inplace=True)\n",
    "\n",
    "# Renaming 'new_values' to 'price' and adding unit column\n",
    "tradprice.rename(columns={'new_values': 'price'}, inplace=True)\n",
    "tradprice['Unit'] = '$/TON'  # Add a new unit column with 'TON/ACRE'\n",
    "\n",
    "\n",
    "tradprice.head(7)"
   ]
  },
  {
   "cell_type": "markdown",
   "metadata": {},
   "source": [
    "## Prepare data to pivot table"
   ]
  },
  {
   "cell_type": "code",
   "execution_count": null,
   "metadata": {},
   "outputs": [],
   "source": [
    "#Check if some rows have NaN price and print them to see the unit (if it is not TON/ACRE or one of the other units already implemented)\n",
    "missing_values = len(tradprice[tradprice['price'].isnull()])\n",
    "print(\"Number of rows with NaN price: \", missing_values)\n",
    "#print rows with NaN price\n",
    "if missing_values > 0:\n",
    "    print(tradprice[tradprice['price'].isnull()])\n",
    "\n",
    "#Check if some rows have negative price and print how many of them\n",
    "negative_values = len(tradprice[tradprice['price'] < 0])\n",
    "print(\"Number of rows with negative price: \", negative_values)\n",
    "#Remove rows with negative price\n",
    "tradprice = tradprice[tradprice['price'] >= 0]"
   ]
  },
  {
   "cell_type": "code",
   "execution_count": null,
   "metadata": {},
   "outputs": [],
   "source": [
    "# Function to extract the commodity name from the Data Item\n",
    "def extract_commodity(data_item):\n",
    "    match = re.search(r'^(.*?)\\s*-\\s*', data_item)\n",
    "    if match:\n",
    "        return match.group(1).strip()  # Return the part before the dash\n",
    "    return None\n",
    "\n",
    "# Updating the Commodity column with extracted values\n",
    "tradprice['Commodity'] = tradprice['Data Item'].apply(extract_commodity)\n",
    "\n",
    "tradprice.head(200)\n"
   ]
  },
  {
   "cell_type": "code",
   "execution_count": null,
   "metadata": {},
   "outputs": [],
   "source": [
    "# Create a new column 'types' based on the commodity content\n",
    "def categorize_commodity(commodity):\n",
    "    if 'FRESH MARKET' in commodity:\n",
    "        return 'FRESH MARKET'\n",
    "    elif 'PROCESSING' in commodity:\n",
    "        return 'PROCESSING'\n",
    "    else:\n",
    "        return 'GENERAL'\n",
    "\n",
    "# Apply the function to the Commodity column\n",
    "tradprice['types'] = tradprice['Commodity'].apply(categorize_commodity)\n",
    "\n",
    "# Remove \"PROCESSING\" and \"FRESH MARKET\" from the 'Commodity' column, regardless of format\n",
    "tradprice['Commodity'] = tradprice['Commodity'].replace({\n",
    "    r'PROCESSING': '', \n",
    "    r'FRESH MARKET': ''\n",
    "}, regex=True).str.strip()\n",
    "\n",
    "# Remove any trailing commas or extra spaces left behind\n",
    "tradprice['Commodity'] = tradprice['Commodity'].str.replace(r',\\s*$', '', regex=True).str.strip()\n",
    "\n",
    "#print how many rows have the word 'UTILIZED' or 'IN SHELL' or 'IMPORVED' in the 'Commodity' commas\n",
    "print(\"Number of rows with UTILIZED in Commodity: \", len(tradprice[tradprice['Commodity'].str.contains(r'UTILIZED')]))\n",
    "print(\"Number of rows with IN SHELL in Commodity: \", len(tradprice[tradprice['Commodity'].str.contains(r'IN SHELL')]))\n",
    "print(\"Number of rows with IMPROVED in Commodity: \", len(tradprice[tradprice['Commodity'].str.contains(r'IMPROVED')]))\n",
    "\n",
    "\n",
    "# Remove the word 'UTILIZED' and 'IN SHELL' and 'IMPROVED' if present in the 'Commodity' column even if there are words, colon before or after\n",
    "tradprice['Commodity'] = tradprice['Commodity'].str.replace(r'\\s*UTILIZED\\s*', '', regex=True).str.strip()\n",
    "# Remove any trailing commas or extra spaces left behind\n",
    "tradprice['Commodity'] = tradprice['Commodity'].str.replace(r',\\s*$', '', regex=True).str.strip()\n",
    "tradprice['Commodity'] = tradprice['Commodity'].str.replace(r'\\s*IN SHELL\\s*', '', regex=True).str.strip()\n",
    "# Remove any trailing commas or extra spaces left behind\n",
    "tradprice['Commodity'] = tradprice['Commodity'].str.replace(r',\\s*$', '', regex=True).str.strip()\n",
    "tradprice['Commodity'] = tradprice['Commodity'].str.replace(r'\\s*IMPROVED\\s*', '', regex=True).str.strip()\n",
    "# Remove any trailing commas or extra spaces left behind\n",
    "tradprice['Commodity'] = tradprice['Commodity'].str.replace(r',\\s*$', '', regex=True).str.strip()\n",
    "\n",
    "tradprice.head(200)"
   ]
  },
  {
   "cell_type": "code",
   "execution_count": null,
   "metadata": {},
   "outputs": [],
   "source": [
    "# Step 1: Check for rows with the same Commodity and State but different types\n",
    "duplicate_rows = tradprice[tradprice.duplicated(subset=['Commodity', 'State'], keep=False) & tradprice['types'].duplicated()]\n",
    "\n",
    "# Step 2: Calculate the average price for rows with the same Commodity and State but different types\n",
    "tradprice = tradprice.groupby(['State', 'Commodity'], as_index=False).agg({'price': 'mean', 'types': lambda x: ', '.join(sorted(set(x)))})\n",
    "\n",
    "# Step 3: Check if duplicates still exist after averaging\n",
    "duplicates_remaining = tradprice[tradprice.duplicated(subset=['Commodity', 'State'], keep=False)]\n",
    "\n",
    "# Display the results\n",
    "print(\"Duplicates found before averaging:\")\n",
    "print(duplicate_rows)\n",
    "\n",
    "print(\"\\nAveraged DataFrame:\")\n",
    "print(tradprice)\n",
    "\n",
    "print(\"\\nDuplicates remaining after averaging:\")\n",
    "print(duplicates_remaining)\n",
    "\n"
   ]
  },
  {
   "cell_type": "markdown",
   "metadata": {},
   "source": [
    "## Pivot table \n",
    "#### (for better/coherent extraction between diffferent tables later)"
   ]
  },
  {
   "cell_type": "code",
   "execution_count": null,
   "metadata": {},
   "outputs": [],
   "source": [
    "# Now pivoting the DataFrame\n",
    "tradprice_pivot = tradprice.pivot(index='State', columns='Commodity', values='price')\n",
    "\n",
    "# Resetting the index to turn the pivot table back into a DataFrame\n",
    "tradprice_pivot.reset_index(inplace=True)\n",
    "\n",
    "\n"
   ]
  },
  {
   "cell_type": "markdown",
   "metadata": {},
   "source": [
    "# Export cleaned and pivoted databases"
   ]
  },
  {
   "cell_type": "code",
   "execution_count": null,
   "metadata": {},
   "outputs": [],
   "source": [
    "# Save the cleaned data to a new CSV file\n",
    "tradprice_pivot.to_csv(DATA_FOLDER+'tradprice_pivotcleaned.csv', index=False)\n",
    "tradprice.to_csv(DATA_FOLDER+'tradprice_cleaned.csv', index=False)\n",
    "\n",
    "\n"
   ]
  }
 ],
 "metadata": {
  "kernelspec": {
   "display_name": "agrivoltaics",
   "language": "python",
   "name": "python3"
  },
  "language_info": {
   "codemirror_mode": {
    "name": "ipython",
    "version": 3
   },
   "file_extension": ".py",
   "mimetype": "text/x-python",
   "name": "python",
   "nbconvert_exporter": "python",
   "pygments_lexer": "ipython3",
   "version": "3.9.20"
  }
 },
 "nbformat": 4,
 "nbformat_minor": 2
}
