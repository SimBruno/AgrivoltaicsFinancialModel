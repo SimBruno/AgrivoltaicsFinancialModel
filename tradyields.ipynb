{
 "cells": [
  {
   "cell_type": "markdown",
   "metadata": {},
   "source": [
    "\n",
    "# Import database for yield rate at year .... \n"
   ]
  },
  {
   "cell_type": "code",
   "execution_count": null,
   "metadata": {},
   "outputs": [],
   "source": [
    "import pandas as pd\n",
    "import re\n",
    "%matplotlib inline\n",
    "\n",
    "DATA_FOLDER = '~/data/'\n",
    "\n",
    "TRADYIELD = DATA_FOLDER+\"tradyield2019.csv\"\n",
    "\n",
    "tradyield = pd.read_csv(TRADYIELD)\n",
    "tradyield.head()"
   ]
  },
  {
   "cell_type": "markdown",
   "metadata": {},
   "source": [
    "# Clean database"
   ]
  },
  {
   "cell_type": "markdown",
   "metadata": {},
   "source": [
    "## Remove useless columns and rows with unreadable data"
   ]
  },
  {
   "cell_type": "code",
   "execution_count": null,
   "metadata": {},
   "outputs": [],
   "source": [
    "#Remove columns that are not needed\n",
    "# Columns with only NaN values\n",
    "tradyield = tradyield.dropna(axis=1, how='all')\n",
    "# Columns with only 0 values\n",
    "tradyield = tradyield.loc[:, (tradyield != 0).any(axis=0)]\n",
    "# Columns Period, Geo Level, State ANSI\n",
    "tradyield = tradyield.drop(columns=['Year','Program','Period', 'Geo Level', 'State ANSI', 'Domain', 'Domain Category'])\n",
    "#state how many rows with (D) value have been removed\n",
    "print(\"Number of rows with (D) value: \", len(tradyield[tradyield['Value'].str.contains(r'\\(D\\)')]))\n",
    "#remove rows where value colummn = (D) with or without spaces\n",
    "tradyield = tradyield[~tradyield['Value'].str.contains(r'\\(D\\)')]\n",
    "#State how many rows with MAPLE SYRUP have been removed\n",
    "print(\"Number of rows with MAPLE SYRUP: \", len(tradyield[tradyield['Commodity'].str.contains(r'MAPLE SYRUP')]))\n",
    "#remove rows where commodity contains MAPLE SYRUP \n",
    "tradyield = tradyield[~tradyield['Commodity'].str.contains(r'MAPLE SYRUP')]\n",
    "\n",
    "\n",
    "tradyield.head(7)"
   ]
  },
  {
   "cell_type": "markdown",
   "metadata": {},
   "source": [
    "## Units conversion in short tons/acre"
   ]
  },
  {
   "cell_type": "code",
   "execution_count": null,
   "metadata": {},
   "outputs": [],
   "source": [
    "# Function to extract and clean the unit\n",
    "def extract_clean_unit(data_item):\n",
    "    match = re.search(r'IN\\s+([A-Z]+\\s*/\\s*[A-Z]+)', data_item)  # Look for \"IN\" followed by the unit\n",
    "    if match:\n",
    "        return match.group(1).replace(' ', '')  # Clean spaces to get \"BU/ACRE\"\n",
    "    return None  # Return None if no match is found\n",
    "\n",
    "# Applying the function to create a new 'Unit' column\n",
    "tradyield['Unit'] = tradyield['Data Item'].apply(extract_clean_unit)\n",
    "\n",
    "# Display the updated DataFrame\n",
    "tradyield.head(7)\n",
    "\n",
    "#print unique values of 'Unit' column\n",
    "print(tradyield['Unit'].unique())\n"
   ]
  },
  {
   "cell_type": "code",
   "execution_count": null,
   "metadata": {},
   "outputs": [],
   "source": [
    "#print column with 'Unit' = 'BARRELS/ACRE'\n",
    "print(tradyield[tradyield['Unit'] == 'BARRELS/ACRE'])\n",
    "#print the number of rows with 'Unit' = 'BARRELS/ACRE'\n",
    "print(len(tradyield[tradyield['Unit'] == 'BARRELS/ACRE']))"
   ]
  },
  {
   "cell_type": "code",
   "execution_count": null,
   "metadata": {},
   "outputs": [],
   "source": [
    "#print column with 'Unit' = 'BOXES/ACRE'\n",
    "print(tradyield[tradyield['Unit'] == 'BOXES/ACRE'])\n",
    "#print the number of rows with 'Unit' = 'BOXES/ACRE'\n",
    "print(len(tradyield[tradyield['Unit'] == 'BOXES/ACRE']))"
   ]
  },
  {
   "cell_type": "code",
   "execution_count": null,
   "metadata": {},
   "outputs": [],
   "source": [
    "tradyield['Value'] = tradyield['Value'].str.replace(',', '', regex=False)  # Remove thousands separator before conversion\n",
    "# Convert 'Value' column to numeric, forcing errors to NaN\n",
    "tradyield['Value'] = pd.to_numeric(tradyield['Value'], errors='coerce')\n",
    "\n",
    "# Define conversion ratios\n",
    "conversion_ratios = {\n",
    "    'TONS/ACRE': 1,  # Reference value with Short tons and not metric tons used here\n",
    "    'LB/ACRE': 0.0005,\n",
    "    'CWT/ACRE': 0.05, #since 1 CWT = 100 lb\n",
    "    'BU/ACRE (CORN/SORGHUM/RYE/FLAXSEED)': 0.028,  #source: TABLES 5/6 https://ers.usda.gov/sites/default/files/_laserfiche/publications/41880/33132_ah697_002.pdf?v=91996 \n",
    "    'BU/ACRE (BARLEY)': 0.024, #source: same\n",
    "    'BU/ACRE (WHEAT/SOYBEANS)': 0.03, #source: same\n",
    "    'BU/ACRE (OATS)': 32*0.0005, #source: same\n",
    "    'BARRELS/ACRE': 100*0.0005, #since 1 barrel of cranberry = 100lb of fruits source: same\n",
    "    'BOXES/ACRE (LEMONS)': 38*0.0005,  #since 1 box of lemons = 38 lb source: same\n",
    "    'BOXES/ACRE (ORANGES,FL)': 43*0.0005,  #since 1 box of oranges = 43 lb source: same\n",
    "    'BOXES/ACRE (ORANGES,TX)': 42*0.0005,  #since 1 box of oranges = 42 lb source: same\n",
    "    'BOXES/ACRE (ORANGE, AZ/CA)': 38*0.0005,  #since 1 box of oranges = 38 lb source: same\n",
    "    'BOXES/ACRE (GRAPEFRUIT, FL/TX)': 40*0.0005,  #since 1 box of oranges = 40 lb source: same\n",
    "    'BOXES/ACRE (GRAPEFRUIT, AZ/CA)': 34*0.0005,  #since 1 box of oranges = 34 lb source: same\n",
    "    'BOXES/ACRE (TANGERINES, AZ/CA)': 25*0.0005,  #since 1 box of oranges = 25 lb source: same\n",
    "    'BOXES/ACRE (TANGERINES, FL)': 43*0.0005,  #since 1 box of oranges = 43 lb source: same\n",
    "}\n",
    "\n",
    "\n",
    "\n",
    "# Function to convert values to tons/acre\n",
    "def convert_to_tons_acre(row):\n",
    "    value = row['Value']\n",
    "    unit = row['Unit']\n",
    "\n",
    "    if pd.isna(value):  # Check if the value is NaN\n",
    "        return None\n",
    "    if unit == 'TONS/ACRE':\n",
    "        return value  # No conversion needed\n",
    "    elif 'BU/ACRE' in unit:\n",
    "        if 'CORN' in row['Commodity'] or 'SORGHUM' or 'RYE' in row['Commodity'] or 'FLAXSEED' in row['Commodity']:\n",
    "            return value * conversion_ratios['BU/ACRE (CORN/SORGHUM/RYE/FLAXSEED)']\n",
    "        elif 'BARLEY' in row['Commodity']:\n",
    "            return value * conversion_ratios['BU/ACRE (BARLEY)']\n",
    "        elif 'WHEAT' in row['Commodity'] or 'SOYBEANS' in row['Commodity']:\n",
    "            return value * conversion_ratios['BU/ACRE (WHEAT/SOYBEANS)']\n",
    "        elif 'OATS' in row['Commodity']:\n",
    "            return value * conversion_ratios['BU/ACRE (OATS)']\n",
    "    elif unit == 'LB/ACRE':\n",
    "        return value * conversion_ratios['LB/ACRE']\n",
    "    elif unit == 'CWT/ACRE':\n",
    "        return value * conversion_ratios['CWT/ACRE']\n",
    "    elif unit == 'BARRELS/ACRE':\n",
    "        return value * conversion_ratios['BARRELS/ACRE']\n",
    "    elif unit == 'BOXES/ACRE':\n",
    "        if 'LEMONS' in row['Commodity']:\n",
    "            return value * conversion_ratios['BOXES/ACRE (LEMONS)']\n",
    "        elif 'ORANGE' in row['Commodity']:\n",
    "            if 'FLORIDA' in row['State']:\n",
    "                return value * conversion_ratios['BOXES/ACRE (ORANGES,FL)']\n",
    "            elif 'TEXAS' in row['State']:\n",
    "                return value * conversion_ratios['BOXES/ACRE (ORANGES,TX)']\n",
    "            elif 'ARIZONA' in row['State'] or 'CALIFORNIA' in row['State']:\n",
    "                return value * conversion_ratios['BOXES/ACRE (ORANGE, AZ/CA)']\n",
    "        elif 'GRAPEFRUIT' in row['Commodity']:\n",
    "            if 'FLORIDA' in row['State'] or 'TEXAS' in row['State']:\n",
    "                return value * conversion_ratios['BOXES/ACRE (GRAPEFRUIT, FL/TX)']\n",
    "            elif 'ARIZONA' in row['State'] or 'CALIFORNIA' in row['State']:\n",
    "                return value * conversion_ratios['BOXES/ACRE (GRAPEFRUIT, AZ/CA)']\n",
    "        elif 'TANGERINES' in row['Commodity']:\n",
    "            if 'FLORIDA' in row['State']:\n",
    "                return value * conversion_ratios['BOXES/ACRE (TANGERINES, FL)']\n",
    "            elif 'ARIZONA' in row['State'] or 'CALIFORNIA' in row['State']:\n",
    "                return value * conversion_ratios['BOXES/ACRE (TANGERINES, AZ/CA)']\n",
    "        \n",
    "    return None  # Return None for unrecognized units\n",
    "\n",
    "\n",
    "# Applying the conversion function to create the 'new_values' column\n",
    "tradyield['new_values'] = tradyield.apply(convert_to_tons_acre, axis=1)\n",
    "\n",
    "# Dropping the old 'Value' and 'Unit' columns\n",
    "tradyield.drop(columns=['Value', 'Unit'], inplace=True)\n",
    "\n",
    "# Renaming 'new_values' to 'yield_value' and adding unit column\n",
    "tradyield.rename(columns={'new_values': 'yield_value'}, inplace=True)\n",
    "tradyield['Unit'] = 'TON/ACRE'  # Add a new unit column with 'TON/ACRE'\n",
    "\n",
    "\n",
    "tradyield.head(7)"
   ]
  },
  {
   "cell_type": "markdown",
   "metadata": {},
   "source": [
    "## Prepare data to pivot table"
   ]
  },
  {
   "cell_type": "code",
   "execution_count": null,
   "metadata": {},
   "outputs": [],
   "source": [
    "# Function to extract the commodity name from the Data Item\n",
    "def extract_commodity(data_item):\n",
    "    match = re.search(r'^(.*?)\\s*-\\s*', data_item)\n",
    "    if match:\n",
    "        return match.group(1).strip()  # Return the part before the dash\n",
    "    return None\n",
    "\n",
    "# Updating the Commodity column with extracted values\n",
    "tradyield['Commodity'] = tradyield['Data Item'].apply(extract_commodity)\n",
    "\n",
    "tradyield.head(200)"
   ]
  },
  {
   "cell_type": "code",
   "execution_count": null,
   "metadata": {},
   "outputs": [],
   "source": [
    "#print how many rows have the word 'UTILIZED' or 'IN SHELL' or 'IMPROVED' in the 'Commodity' column\n",
    "print(\"Number of rows with UTILIZED in Commodity: \", len(tradyield[tradyield['Commodity'].str.contains(r'UTILIZED')]))\n",
    "print(\"Number of rows with IN SHELL in Commodity: \", len(tradyield[tradyield['Commodity'].str.contains(r'IN SHELL')]))\n",
    "print(\"Number of rows with IMPROVED in Commodity: \", len(tradyield[tradyield['Commodity'].str.contains(r'IMPROVED')]))\n",
    "\n",
    "# Remove the word 'UTILIZED' and 'IN SHELL' and 'IMPROVED' if present in the 'Commodity' column even if there are words, commas before or after\n",
    "tradyield['Commodity'] = tradyield['Commodity'].str.replace(r'\\s*UTILIZED\\s*', '', regex=True).str.strip()\n",
    "# Remove any trailing commas or extra spaces left behind\n",
    "tradyield['Commodity'] = tradyield['Commodity'].str.replace(r',\\s*$', '', regex=True).str.strip()\n",
    "\n",
    "tradyield['Commodity'] = tradyield['Commodity'].str.replace(r'\\s*IN SHELL\\s*', '', regex=True).str.strip()\n",
    "# Remove any trailing commas or extra spaces left behind\n",
    "tradyield['Commodity'] = tradyield['Commodity'].str.replace(r',\\s*$', '', regex=True).str.strip()\n",
    "\n",
    "tradyield['Commodity'] = tradyield['Commodity'].str.replace(r'\\s*IMPROVED\\s*', '', regex=True).str.strip()\n",
    "# Remove any trailing commas or extra spaces left behind\n",
    "tradyield['Commodity'] = tradyield['Commodity'].str.replace(r',\\s*$', '', regex=True).str.strip()\n",
    "\n",
    "#Check if some rows have NaN yield_value and print them to see the unit (if it is not TON/ACRE or one of the other units already implemented)\n",
    "missing_values = len(tradyield[tradyield['yield_value'].isnull()])\n",
    "print(\"Number of rows with NaN yield_value: \", missing_values)\n",
    "#print rows with NaN yield_value\n",
    "if missing_values > 0:\n",
    "    print(tradyield[tradyield['yield_value'].isnull()])\n",
    "\n",
    "#Check if some rows have negative yield_value and print how many of them\n",
    "negative_values = len(tradyield[tradyield['yield_value'] < 0])\n",
    "print(\"Number of rows with negative yield_value: \", negative_values)\n",
    "#Remove rows with negative yield_value\n",
    "tradprice = tradyield[tradyield['yield_value'] >= 0]\n"
   ]
  },
  {
   "cell_type": "code",
   "execution_count": null,
   "metadata": {},
   "outputs": [],
   "source": [
    "#Check if there are some rows with the same Commodity and State but different yield_value\n",
    "duplicates = len(tradyield[tradyield.duplicated(subset=['Commodity', 'State'], keep=False)])\n",
    "print(\"Number of rows with the same Commodity and State but different yield_value: \", duplicates)\n",
    "\n",
    "# Remove one of the duplicates based on State and Commodity\n",
    "tradyield = tradyield.drop_duplicates(subset=['State', 'Commodity'])\n",
    "\n",
    "duplicates_2 = len(tradyield[tradyield.duplicated(subset=['Commodity', 'State'], keep=False)])\n",
    "print(\"Number of rows with the same Commodity and State but different yield_value: \", duplicates_2)\n"
   ]
  },
  {
   "cell_type": "markdown",
   "metadata": {},
   "source": [
    "## Pivot table \n",
    "#### (for better/coherent extraction between diffferent tables later)"
   ]
  },
  {
   "cell_type": "code",
   "execution_count": null,
   "metadata": {},
   "outputs": [],
   "source": [
    "# Now pivoting the DataFrame\n",
    "tradyield_pivot = tradyield.pivot(index='State', columns='Commodity', values='yield_value')\n",
    "\n",
    "# Resetting the index to turn the pivot table back into a DataFrame\n",
    "tradyield_pivot.reset_index(inplace=True)"
   ]
  },
  {
   "cell_type": "markdown",
   "metadata": {},
   "source": [
    "# Export cleaned and pivoted databases"
   ]
  },
  {
   "cell_type": "code",
   "execution_count": null,
   "metadata": {},
   "outputs": [],
   "source": [
    "# Save the cleaned data to a new CSV file\n",
    "tradyield_pivot.to_csv(DATA_FOLDER+'tradyield_pivotcleaned.csv', index=False)\n",
    "tradyield.to_csv(DATA_FOLDER+'tradyield_cleaned.csv', index=False)"
   ]
  }
 ],
 "metadata": {
  "kernelspec": {
   "display_name": "agrivoltaics",
   "language": "python",
   "name": "python3"
  },
  "language_info": {
   "codemirror_mode": {
    "name": "ipython",
    "version": 3
   },
   "file_extension": ".py",
   "mimetype": "text/x-python",
   "name": "python",
   "nbconvert_exporter": "python",
   "pygments_lexer": "ipython3",
   "version": "3.9.20"
  }
 },
 "nbformat": 4,
 "nbformat_minor": 2
}
