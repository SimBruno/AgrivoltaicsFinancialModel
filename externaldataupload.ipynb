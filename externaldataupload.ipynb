{
 "cells": [
  {
   "cell_type": "markdown",
   "metadata": {},
   "source": [
    "# Merging two pivoted datasets (crop yields and crop prices)"
   ]
  },
  {
   "cell_type": "code",
   "execution_count": null,
   "metadata": {},
   "outputs": [],
   "source": [
    "import pandas as pd\n",
    "\n",
    "# Importing the tradyield and tradprice data\n",
    "DATA_FOLDER = '~/data/'\n",
    "TRADYIELD = DATA_FOLDER + \"tradyield_pivotcleaned.csv\"\n",
    "TRADPRICE = DATA_FOLDER + \"tradprice_pivotcleaned.csv\"\n",
    "\n",
    "# Load the CSVs into dataframes\n",
    "yield_df = pd.read_csv(TRADYIELD)\n",
    "price_df = pd.read_csv(TRADPRICE)\n",
    "\n",
    "# Convert all crop columns to numeric, coercing errors to NaN\n",
    "for column in yield_df.columns[1:]:\n",
    "    yield_df[column] = pd.to_numeric(yield_df[column], errors='coerce')\n",
    "\n",
    "for column in price_df.columns[1:]:\n",
    "    price_df[column] = pd.to_numeric(price_df[column], errors='coerce')\n",
    "\n",
    "# Find common columns (excluding the 'State' column)\n",
    "common_columns = list(set(yield_df.columns[1:]) & set(price_df.columns[1:]))\n",
    "\n",
    "# Calculate and print the number of columns lost\n",
    "total_columns = len(set(yield_df.columns[1:]) | set(price_df.columns[1:]))\n",
    "columns_lost = total_columns - len(common_columns)\n",
    "print(f\"Number of columns lost during the merge: {columns_lost}\")\n",
    "\n",
    "# Sort the common columns alphabetically and add 'State' at the beginning\n",
    "common_columns = ['State'] + sorted(common_columns)\n",
    "\n",
    "# Filter both dataframes to keep only the common columns\n",
    "yield_common = yield_df[common_columns]\n",
    "price_common = price_df[common_columns]\n",
    "\n",
    "# Merge the dataframes on 'State' based on the common columns\n",
    "merged_common_df = pd.merge(yield_common, price_common, on=\"State\", suffixes=('_yield', '_price'))\n",
    "\n",
    "# Create a new dataframe where each crop has a list [yield, price]\n",
    "combined_data_common = {}\n",
    "\n",
    "for col in common_columns[1:]:\n",
    "    combined_data_common[col] = merged_common_df[[f'{col}_yield', f'{col}_price']].apply(\n",
    "        lambda row: [row[0] if not pd.isna(row[0]) else 0, row[1] if not pd.isna(row[1]) else 0], axis=1)\n",
    "\n",
    "# Create a new dataframe with combined yield and price data\n",
    "final_combined_common_df = pd.DataFrame(combined_data_common)\n",
    "final_combined_common_df.insert(0, 'State', merged_common_df['State'])\n",
    "\n",
    "# Save to CSV or print result\n",
    "FINAL_PATH = DATA_FOLDER+\"combined_yield_price_common_data.csv\"\n",
    "final_combined_common_df.to_csv(FINAL_PATH, index=False)\n",
    "\n",
    "# Optional: print the first few rows to check\n",
    "print(final_combined_common_df.head())\n"
   ]
  }
 ],
 "metadata": {
  "kernelspec": {
   "display_name": "agrivoltaics",
   "language": "python",
   "name": "python3"
  },
  "language_info": {
   "codemirror_mode": {
    "name": "ipython",
    "version": 3
   },
   "file_extension": ".py",
   "mimetype": "text/x-python",
   "name": "python",
   "nbconvert_exporter": "python",
   "pygments_lexer": "ipython3",
   "version": "3.9.20"
  }
 },
 "nbformat": 4,
 "nbformat_minor": 2
}
